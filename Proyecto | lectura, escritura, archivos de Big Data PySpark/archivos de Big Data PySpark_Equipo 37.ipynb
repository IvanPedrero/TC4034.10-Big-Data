{
 "cells": [
  {
   "cell_type": "code",
   "execution_count": 1,
   "id": "1cbb2b10",
   "metadata": {},
   "outputs": [],
   "source": [
    "import findspark\n",
    "from pyspark.sql import SparkSession\n",
    "from pyspark.sql.functions import col, isnan, when, count\n",
    "\n",
    "from os import path\n",
    "\n",
    "import matplotlib.pyplot as plt\n",
    "import seaborn as sns"
   ]
  },
  {
   "cell_type": "code",
   "execution_count": 2,
   "id": "b66b17c0",
   "metadata": {},
   "outputs": [
    {
     "data": {
      "text/plain": [
       "'/Users/cesarivp/Documents/GitHub/TC4034.10-Big-Data/tc4034/lib/python3.13/site-packages/pyspark'"
      ]
     },
     "execution_count": 2,
     "metadata": {},
     "output_type": "execute_result"
    }
   ],
   "source": [
    "findspark.init()\n",
    "findspark.find()"
   ]
  },
  {
   "cell_type": "code",
   "execution_count": 3,
   "id": "c5890e9c",
   "metadata": {},
   "outputs": [],
   "source": [
    "PATH_TO_FILE = \"./data/amazon_review_polarity_csv\"\n",
    "FILE_NAME = \"train.csv\""
   ]
  },
  {
   "cell_type": "code",
   "execution_count": 4,
   "id": "59f17100",
   "metadata": {},
   "outputs": [
    {
     "name": "stderr",
     "output_type": "stream",
     "text": [
      "Setting default log level to \"WARN\".\n",
      "To adjust logging level use sc.setLogLevel(newLevel). For SparkR, use setLogLevel(newLevel).\n",
      "25/04/26 13:02:04 WARN NativeCodeLoader: Unable to load native-hadoop library for your platform... using builtin-java classes where applicable\n"
     ]
    },
    {
     "data": {
      "text/html": [
       "\n",
       "            <div>\n",
       "                <p><b>SparkSession - in-memory</b></p>\n",
       "                \n",
       "        <div>\n",
       "            <p><b>SparkContext</b></p>\n",
       "\n",
       "            <p><a href=\"http://10.0.0.141:4040\">Spark UI</a></p>\n",
       "\n",
       "            <dl>\n",
       "              <dt>Version</dt>\n",
       "                <dd><code>v3.5.5</code></dd>\n",
       "              <dt>Master</dt>\n",
       "                <dd><code>local[*]</code></dd>\n",
       "              <dt>AppName</dt>\n",
       "                <dd><code>pyspark-shell</code></dd>\n",
       "            </dl>\n",
       "        </div>\n",
       "        \n",
       "            </div>\n",
       "        "
      ],
      "text/plain": [
       "<pyspark.sql.session.SparkSession at 0x10d7ea660>"
      ]
     },
     "execution_count": 4,
     "metadata": {},
     "output_type": "execute_result"
    }
   ],
   "source": [
    "spark = SparkSession.builder.master(\"local[*]\").getOrCreate()\n",
    "spark.conf.set(\"spark.sql.repl.eagerEval.enabled\", True)\n",
    "\n",
    "spark"
   ]
  },
  {
   "cell_type": "code",
   "execution_count": 5,
   "id": "c40fafb2",
   "metadata": {},
   "outputs": [
    {
     "name": "stderr",
     "output_type": "stream",
     "text": [
      "                                                                                \r"
     ]
    }
   ],
   "source": [
    "df = spark.read.csv(\n",
    "    path.join(PATH_TO_FILE, FILE_NAME),\n",
    "    header=False,\n",
    "    inferSchema=True,\n",
    "    multiLine=True,\n",
    "    escape=\"\\\"\",\n",
    "    quote=\"\\\"\"\n",
    ")"
   ]
  },
  {
   "cell_type": "code",
   "execution_count": 6,
   "id": "718de8b9",
   "metadata": {},
   "outputs": [],
   "source": [
    "df = df.withColumnRenamed(\"_c0\", \"polarity\") \\\n",
    "       .withColumnRenamed(\"_c1\", \"title\") \\\n",
    "       .withColumnRenamed(\"_c2\", \"text\")"
   ]
  },
  {
   "cell_type": "code",
   "execution_count": 7,
   "id": "09555fd6",
   "metadata": {},
   "outputs": [
    {
     "name": "stdout",
     "output_type": "stream",
     "text": [
      "+--------+--------------------+--------------------+\n",
      "|polarity|               title|                text|\n",
      "+--------+--------------------+--------------------+\n",
      "|       2|            Amazing!|This soundtrack i...|\n",
      "|       2|Excellent Soundtrack|I truly like this...|\n",
      "|       2|Remember, Pull Yo...|If you've played ...|\n",
      "|       2|an absolute maste...|I am quite sure a...|\n",
      "|       1|        Buyer beware|This is a self-pu...|\n",
      "|       2|      Glorious story|I loved Whisper o...|\n",
      "|       2|    A FIVE STAR BOOK|I just finished r...|\n",
      "|       2|Whispers of the W...|This was a easy t...|\n",
      "|       1|          The Worst!|A complete waste ...|\n",
      "|       2|          Great book|This was a great ...|\n",
      "|       2|          Great Read|I thought this bo...|\n",
      "|       1|           Oh please|I guess you have ...|\n",
      "|       1|Awful beyond belief!|I feel I have to ...|\n",
      "|       1|Don't try to fool...|It's glaringly ob...|\n",
      "|       2|A romantic zen ba...|When you hear fol...|\n",
      "|       2|Fashionable Compr...|After I had a DVT...|\n",
      "|       2|Jobst UltraSheer ...|Excellent product...|\n",
      "|       1|sizes recomended ...|sizes are much sm...|\n",
      "|       1|     mens ultrasheer|This model may be...|\n",
      "|       2|Delicious cookie mix|I thought it was ...|\n",
      "+--------+--------------------+--------------------+\n",
      "only showing top 20 rows\n",
      "\n"
     ]
    }
   ],
   "source": [
    "# Show a few rows to verify\n",
    "df.show(truncate=20)"
   ]
  },
  {
   "cell_type": "code",
   "execution_count": 8,
   "id": "e5b74dd0",
   "metadata": {},
   "outputs": [
    {
     "name": "stdout",
     "output_type": "stream",
     "text": [
      "root\n",
      " |-- polarity: integer (nullable = true)\n",
      " |-- title: string (nullable = true)\n",
      " |-- text: string (nullable = true)\n",
      "\n"
     ]
    }
   ],
   "source": [
    "df.printSchema()"
   ]
  },
  {
   "cell_type": "code",
   "execution_count": 9,
   "id": "1505b29c",
   "metadata": {},
   "outputs": [
    {
     "name": "stdout",
     "output_type": "stream",
     "text": [
      "Number of columns: 3\n"
     ]
    }
   ],
   "source": [
    "# 2. Number of columns\n",
    "num_cols = len(df.columns)\n",
    "print(f\"Number of columns: {num_cols}\")"
   ]
  },
  {
   "cell_type": "code",
   "execution_count": 10,
   "id": "ee1e68d4",
   "metadata": {},
   "outputs": [
    {
     "name": "stderr",
     "output_type": "stream",
     "text": [
      "[Stage 3:>                                                          (0 + 1) / 1]\r"
     ]
    },
    {
     "name": "stdout",
     "output_type": "stream",
     "text": [
      "Number of records: 3599998\n"
     ]
    },
    {
     "name": "stderr",
     "output_type": "stream",
     "text": [
      "                                                                                \r"
     ]
    }
   ],
   "source": [
    "# 3. Number of records (rows)\n",
    "num_rows = df.count()\n",
    "print(f\"Number of records: {num_rows}\")"
   ]
  },
  {
   "cell_type": "code",
   "execution_count": 11,
   "id": "7e39d9a3",
   "metadata": {},
   "outputs": [
    {
     "data": {
      "text/plain": [
       "[('polarity', 'int'), ('title', 'string'), ('text', 'string')]"
      ]
     },
     "execution_count": 11,
     "metadata": {},
     "output_type": "execute_result"
    }
   ],
   "source": [
    "# 4. Data types\n",
    "df.dtypes"
   ]
  },
  {
   "cell_type": "code",
   "execution_count": 12,
   "id": "0be54130",
   "metadata": {},
   "outputs": [
    {
     "name": "stderr",
     "output_type": "stream",
     "text": [
      "25/04/26 13:02:20 WARN GarbageCollectionMetrics: To enable non-built-in garbage collector(s) List(G1 Concurrent GC), users should configure it(them) to spark.eventLog.gcMetrics.youngGenerationGarbageCollectors or spark.eventLog.gcMetrics.oldGenerationGarbageCollectors\n"
     ]
    },
    {
     "name": "stdout",
     "output_type": "stream",
     "text": [
      "+--------+-----+----+\n",
      "|polarity|title|text|\n",
      "+--------+-----+----+\n",
      "|       0|   50|   0|\n",
      "+--------+-----+----+\n",
      "\n"
     ]
    },
    {
     "name": "stderr",
     "output_type": "stream",
     "text": [
      "                                                                                \r"
     ]
    }
   ],
   "source": [
    "# 5. Missing/null values per column\n",
    "missing_values = df.select(\n",
    "    [count(when(col(c).isNull() | isnan(c) | (col(c) == \"\"), c)).alias(c) for c in df.columns]\n",
    ")\n",
    "missing_values.show()"
   ]
  },
  {
   "cell_type": "code",
   "execution_count": 13,
   "id": "ec430201",
   "metadata": {},
   "outputs": [
    {
     "name": "stderr",
     "output_type": "stream",
     "text": [
      "[Stage 9:>                                                          (0 + 1) / 1]\r"
     ]
    },
    {
     "name": "stdout",
     "output_type": "stream",
     "text": [
      "+-------+------------------+\n",
      "|summary|          polarity|\n",
      "+-------+------------------+\n",
      "|  count|           3599998|\n",
      "|   mean| 1.499999722222068|\n",
      "| stddev|0.5000000694444089|\n",
      "|    min|                 1|\n",
      "|    max|                 2|\n",
      "+-------+------------------+\n",
      "\n"
     ]
    },
    {
     "name": "stderr",
     "output_type": "stream",
     "text": [
      "                                                                                \r"
     ]
    }
   ],
   "source": [
    "# Basic describe() statistics\n",
    "df.describe([\"polarity\"]).show()\n"
   ]
  },
  {
   "cell_type": "markdown",
   "id": "d5e65e71",
   "metadata": {},
   "source": [
    "Since title and text are strings, .describe() will mostly focus on polarity — but we can also measure average lengths of title and text.\n",
    "\n",
    " This will tell us:\n",
    "\n",
    "How long titles usually are\n",
    "How long full reviews usually are"
   ]
  },
  {
   "cell_type": "code",
   "execution_count": 14,
   "id": "80ef45d2",
   "metadata": {},
   "outputs": [
    {
     "name": "stderr",
     "output_type": "stream",
     "text": [
      "[Stage 12:>                                                         (0 + 1) / 1]\r"
     ]
    },
    {
     "name": "stdout",
     "output_type": "stream",
     "text": [
      "+-----------------+------------------+\n",
      "| avg_title_length|   avg_text_length|\n",
      "+-----------------+------------------+\n",
      "|24.50700898623592|405.13961257756256|\n",
      "+-----------------+------------------+\n",
      "\n"
     ]
    },
    {
     "name": "stderr",
     "output_type": "stream",
     "text": [
      "                                                                                \r"
     ]
    }
   ],
   "source": [
    "from pyspark.sql.functions import length, avg\n",
    "\n",
    "# Add new columns for text length\n",
    "df = df.withColumn(\"title_length\", length(\"title\"))\n",
    "df = df.withColumn(\"text_length\", length(\"text\"))\n",
    "\n",
    "# Average length of title and text\n",
    "df.select(\n",
    "    avg(\"title_length\").alias(\"avg_title_length\"),\n",
    "    avg(\"text_length\").alias(\"avg_text_length\")\n",
    ").show()\n"
   ]
  },
  {
   "cell_type": "markdown",
   "id": "b5d02bdc",
   "metadata": {},
   "source": [
    "Visualization"
   ]
  },
  {
   "cell_type": "code",
   "execution_count": 15,
   "id": "0ac7a8d8",
   "metadata": {},
   "outputs": [
    {
     "name": "stderr",
     "output_type": "stream",
     "text": [
      "                                                                                \r"
     ]
    },
    {
     "data": {
      "image/png": "[encoded data removed]",
      "text/plain": [
       "<Figure size 800x500 with 1 Axes>"
      ]
     },
     "metadata": {},
     "output_type": "display_data"
    }
   ],
   "source": [
    "# 1. Missing values, not really worht it?\n",
    "missing = df.select(\n",
    "    [count(when(col(c).isNull() | isnan(c) | (col(c) == \"\"), c)).alias(c) for c in df.columns]\n",
    ").toPandas()\n",
    "\n",
    "missing = missing.T.reset_index()\n",
    "missing.columns = [\"column\", \"missing_count\"]\n",
    "\n",
    "plt.figure(figsize=(8,5))\n",
    "sns.barplot(x=\"column\", y=\"missing_count\", data=missing)\n",
    "plt.title(\"Missing Values per Column\")\n",
    "plt.show()\n"
   ]
  },
  {
   "cell_type": "code",
   "execution_count": 16,
   "id": "3a59ad57",
   "metadata": {},
   "outputs": [
    {
     "name": "stderr",
     "output_type": "stream",
     "text": [
      "                                                                                \r"
     ]
    },
    {
     "data": {
      "image/png": "[encoded data removed]",
      "text/plain": [
       "<Figure size 600x400 with 1 Axes>"
      ]
     },
     "metadata": {},
     "output_type": "display_data"
    }
   ],
   "source": [
    "# 2. Class distribution chart, maybe useful? But the 1 and 2 are the same\n",
    "polarity_counts = df.groupBy(\"polarity\").count().toPandas()\n",
    "\n",
    "plt.figure(figsize=(6,4))\n",
    "sns.barplot(x=\"polarity\", y=\"count\", data=polarity_counts)\n",
    "plt.title(\"Polarity Class Distribution\")\n",
    "plt.xticks([0, 1], [\"Negative (1)\", \"Positive (2)\"])\n",
    "plt.show()"
   ]
  }
 ],
 "metadata": {
  "kernelspec": {
   "display_name": "tc4034",
   "language": "python",
   "name": "python3"
  },
  "language_info": {
   "codemirror_mode": {
    "name": "ipython",
    "version": 3
   },
   "file_extension": ".py",
   "mimetype": "text/x-python",
   "name": "python",
   "nbconvert_exporter": "python",
   "pygments_lexer": "ipython3",
   "version": "3.13.2"
  }
 },
 "nbformat": 4,
 "nbformat_minor": 5
}
